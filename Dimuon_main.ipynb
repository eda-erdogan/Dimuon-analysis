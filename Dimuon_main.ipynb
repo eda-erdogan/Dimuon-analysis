{
 "cells": [
  {
   "cell_type": "code",
   "execution_count": 89,
   "metadata": {},
   "outputs": [],
   "source": [
    "#DNN with 100k events-2010 sqrt(s) = 7 TeV pp \n",
    "import pandas as pd\n",
    "import numpy as np\n",
    "from sklearn.model_selection import train_test_split\n",
    "import torch\n",
    "import torch.nn as nn\n",
    "import torch.optim as optim\n",
    "from torch.utils.data import Dataset, DataLoader\n",
    "from sklearn.metrics import accuracy_score, confusion_matrix, precision_score, recall_score\n",
    "import matplotlib.pyplot as plt"
   ]
  },
  {
   "cell_type": "code",
   "execution_count": 90,
   "metadata": {},
   "outputs": [
    {
     "name": "stdout",
     "output_type": "stream",
     "text": [
      "Loading dataset...\n"
     ]
    }
   ],
   "source": [
    "# Load CSV file including 100k events\n",
    "print(\"Loading dataset...\")\n",
    "df = pd.read_csv('/home/edaerdogan/Desktop/dimuonai/dimuon.csv')\n"
   ]
  },
  {
   "cell_type": "code",
   "execution_count": 91,
   "metadata": {},
   "outputs": [],
   "source": [
    "#filtering and labeling \n",
    "signal_df = df[df['Q1'] * df['Q2'] < 0].copy()\n",
    "background_df = df[df['Q1'] * df['Q2'] >= 0].copy() #df should stay unaffected, main purpose is to discriminate signal and background.\n",
    "\n",
    "signal_df['target'] = 0\n",
    "background_df['target'] = 1\n",
    "\n",
    "filtered_df = pd.concat([signal_df, background_df], ignore_index=True) #pd.concat is a function used to concatenate DataFrames along a particular axis.\n"
   ]
  },
  {
   "cell_type": "code",
   "execution_count": 92,
   "metadata": {},
   "outputs": [
    {
     "name": "stdout",
     "output_type": "stream",
     "text": [
      "Total Signal Events: 62214\n",
      "Total Background Events: 37786\n",
      "Signal Percentage: 62.214000000000006%\n",
      "Background Percentage: 37.785999999999994%\n"
     ]
    }
   ],
   "source": [
    "signal_count = len(df[df['Q1'] * df['Q2'] < 0]) #filters for signal and background in terms of charges\n",
    "background_count = len(df[df['Q1'] * df['Q2'] >= 0])\n",
    "\n",
    "total_signal = signal_count\n",
    "total_background = background_count\n",
    "total_events = total_signal + total_background\n",
    "\n",
    "# Calculate percentages\n",
    "signal_percentage = total_signal / total_events * 100\n",
    "background_percentage = total_background / total_events * 100\n",
    "\n",
    "print(f'Total Signal Events: {total_signal}')\n",
    "print(f'Total Background Events: {total_background}')\n",
    "print(f'Signal Percentage: {signal_percentage}%')\n",
    "print(f'Background Percentage: {background_percentage}%')"
   ]
  },
  {
   "cell_type": "code",
   "execution_count": 93,
   "metadata": {},
   "outputs": [],
   "source": [
    "features = filtered_df[['pt1', 'pt2', 'eta1', 'eta2', 'phi1', 'phi2', 'Q1', 'Q2']] #Since M is given as a parameter for both the muons, it is not taken as a parameter\n",
    "target = filtered_df['target']"
   ]
  },
  {
   "cell_type": "code",
   "execution_count": 94,
   "metadata": {},
   "outputs": [],
   "source": [
    "# Split data into train and test sets %20-%80\n",
    "train_data, test_data, train_target, test_target = train_test_split(features, target, test_size=0.2, random_state=42)\n"
   ]
  },
  {
   "cell_type": "code",
   "execution_count": 95,
   "metadata": {},
   "outputs": [],
   "source": [
    "# Convert data to PyTorch tensors\n",
    "train_data_tensor = torch.tensor(train_data.values, dtype=torch.float32)\n",
    "test_data_tensor = torch.tensor(test_data.values, dtype=torch.float32)\n",
    "\n",
    "train_target_tensor = torch.tensor(train_target.values, dtype=torch.float32)\n",
    "test_target_tensor = torch.tensor(test_target.values, dtype=torch.float32)\n"
   ]
  },
  {
   "cell_type": "code",
   "execution_count": 96,
   "metadata": {},
   "outputs": [],
   "source": [
    "# Custom dataset to read\n",
    "class MuonDataset(Dataset):\n",
    "    def __init__(self, data, target):\n",
    "        self.data = data\n",
    "        self.target = target\n",
    "\n",
    "    def __len__(self):\n",
    "        return len(self.data)\n",
    "\n",
    "    def __getitem__(self, idx):\n",
    "        return self.data[idx], self.target[idx]\n"
   ]
  },
  {
   "cell_type": "code",
   "execution_count": 97,
   "metadata": {},
   "outputs": [
    {
     "name": "stdout",
     "output_type": "stream",
     "text": [
      "Loading model...\n"
     ]
    }
   ],
   "source": [
    "# DataLoader\n",
    "print(\"Loading model...\")\n",
    "train_dataset = MuonDataset(train_data_tensor, train_target_tensor)\n",
    "test_dataset = MuonDataset(test_data_tensor, test_target_tensor)\n",
    "\n",
    "train_loader = DataLoader(train_dataset, batch_size=128, shuffle=True)\n",
    "test_loader = DataLoader(test_dataset, batch_size=128, shuffle=False)\n"
   ]
  },
  {
   "cell_type": "code",
   "execution_count": 98,
   "metadata": {},
   "outputs": [],
   "source": [
    "# DNN model: 8 nodes in input, 100-50-20 in hiddens, 1 for output. Relu and linear for first 4 layers, and sigmoid for output\n",
    "class MuonDNN(nn.Module):\n",
    "    def __init__(self):\n",
    "        super(MuonDNN, self).__init__()\n",
    "\n",
    "        self.hidden_layer1 = nn.Linear(8, 100) #input included here\n",
    "        self.hidden_layer2 = nn.Linear(100, 50)\n",
    "        self.hidden_layer3 = nn.Linear(50, 20)\n",
    "        self.output_layer = nn.Linear(20, 1)\n",
    "\n",
    "        self.activation = nn.ReLU()\n",
    "        self.output_activation = nn.Sigmoid()\n",
    "\n",
    "        self.dropout = nn.Dropout(0.2)\n",
    "        \n",
    "        nn.init.normal_(self.hidden_layer1.weight)\n",
    "        nn.init.normal_(self.hidden_layer2.weight)\n",
    "        nn.init.normal_(self.hidden_layer3.weight)\n",
    "        nn.init.normal_(self.output_layer.weight)\n",
    "\n",
    "    def forward(self, x):\n",
    "        x = self.activation(self.dropout(self.hidden_layer1(x)))\n",
    "        x = self.activation(self.dropout(self.hidden_layer2(x)))\n",
    "        x = self.activation(self.dropout(self.hidden_layer3(x)))\n",
    "        x = self.output_activation(self.output_layer(x))\n",
    "        return x\n"
   ]
  },
  {
   "cell_type": "code",
   "execution_count": 99,
   "metadata": {},
   "outputs": [],
   "source": [
    "# Create an instance of the model\n",
    "model = MuonDNN()"
   ]
  },
  {
   "cell_type": "code",
   "execution_count": 100,
   "metadata": {},
   "outputs": [],
   "source": [
    "# Loss function and optimizer\n",
    "criterion = nn.BCELoss()\n",
    "optimizer = optim.Adam(model.parameters(), lr=0.01)\n"
   ]
  },
  {
   "cell_type": "code",
   "execution_count": 101,
   "metadata": {},
   "outputs": [],
   "source": [
    "best_test_loss = float('inf')\n",
    "#best_epoch = 0\n",
    "patience = 5 #I used for early stopping, but can this be beneficial for further optimization?\n",
    "params = {\"batch_size\": 128} #no additional parameters were given in the article, should I add anything else?\n"
   ]
  },
  {
   "cell_type": "code",
   "execution_count": 102,
   "metadata": {},
   "outputs": [],
   "source": [
    "# Initialize counters for overall metrics\n",
    "total_signal_predictions = []\n",
    "total_signal_targets = []\n",
    "total_background_predictions = []\n",
    "total_background_targets = []\n",
    "\n",
    "true_signal_data_values = [] #M values for signal \n",
    "invariant_mass_spectrum_true_signal_values = []\n",
    "invariant_mass_spectrum_predicted_signal_values = [] #there might be some issues here\n",
    "\n",
    "#predicted_signal_M_values = []\n"
   ]
  },
  {
   "cell_type": "code",
   "execution_count": 103,
   "metadata": {},
   "outputs": [
    {
     "name": "stdout",
     "output_type": "stream",
     "text": [
      "Preparing Training\n"
     ]
    }
   ],
   "source": [
    "# Training \n",
    "print(\"Preparing Training\")\n",
    "batch_size = params[\"batch_size\"]\n",
    "\n",
    "num_epochs = 100\n",
    "best_test_loss = float('inf')\n",
    "\n",
    "for epoch in range(num_epochs):\n",
    "    for inputs, targets in train_loader:\n",
    "        optimizer.zero_grad()\n",
    "        outputs = model(inputs)\n",
    "        loss = criterion(outputs, targets.view(-1, 1))\n",
    "        loss.backward()\n",
    "        optimizer.step() #update"
   ]
  },
  {
   "cell_type": "code",
   "execution_count": 104,
   "metadata": {},
   "outputs": [],
   "source": [
    "#true_signal_M_values = test_data_tensor[test_target_tensor.numpy() == 0][:, -1].numpy()  # Assuming M column is the last column\n",
    "\n",
    "# Evaluate on the test set\n",
    "with torch.no_grad():\n",
    "        test_losses = []\n",
    "        predictions = []\n",
    "\n",
    "        for inputs, targets in test_loader:\n",
    "            test_outputs = model(inputs)\n",
    "            test_loss = criterion(test_outputs, targets.view(-1, 1))\n",
    "            test_losses.append(test_loss.item())\n",
    "            predictions.extend(test_outputs.round().detach().numpy())\n",
    "\n",
    "            #binary_predictions = (test_outputs >= 0.5).float() # not sure if this should be beneficial\n",
    "            #predictions.extend(binary_predictions.cpu().numpy()) \n",
    "\n",
    "# Accumulate predictions and targets for overall metrics calculation\n",
    "total_signal_targets.extend(targets.numpy())\n",
    "total_background_targets.extend((1 - targets).numpy())\n",
    "\n",
    "total_signal_predictions.extend(test_outputs.round().detach().numpy())\n",
    "total_background_predictions.extend((1 - test_outputs.round().detach().numpy()))\n"
   ]
  },
  {
   "cell_type": "code",
   "execution_count": 105,
   "metadata": {},
   "outputs": [
    {
     "name": "stderr",
     "output_type": "stream",
     "text": [
      "/home/edaerdogan/anaconda3/envs/aienv/lib/python3.11/site-packages/numpy/lib/histograms.py:885: RuntimeWarning: invalid value encountered in divide\n",
      "  return n/db/n.sum(), bin_edges\n"
     ]
    },
    {
     "data": {
      "image/png": "[encoded data removed]",
      "text/plain": [
       "<Figure size 1200x600 with 1 Axes>"
      ]
     },
     "metadata": {},
     "output_type": "display_data"
    }
   ],
   "source": [
    "# Collect data for histograms\n",
    "true_signal_data_values.extend(test_data_tensor[test_target_tensor.numpy() == 0][:, 7].numpy())#I am supposed to take the 20th column for M values but dimensions do not match error occurs \n",
    "#test data set;mu-mu+spectrum; predicted mu-mu+ spectrum\n",
    "true_signal_indices = [i for i, target in enumerate(test_target_tensor.numpy()) if target == 0]\n",
    "true_signal_data = test_data_tensor[true_signal_indices] \n",
    "\n",
    "#invariant_mass_spectrum_true_signal_values.extend(torch.sum(true_signal_data, dim=1).numpy())\n",
    "\n",
    "threshold = 0.5\n",
    "predicted_signal_indices = [i for i, pred in enumerate(predictions) if pred > threshold]\n",
    "predicted_signal_data = test_data_tensor[predicted_signal_indices]\n",
    "#invariant_mass_spectrum_predicted_signal_values.extend(torch.sum(predicted_signal_data, dim=1).numpy())\n",
    "\n",
    "# Draw histograms after each epoch\n",
    "plt.figure(figsize=(12, 6))\n",
    "\n",
    "# Histogram for True Signal\n",
    "plt.hist(true_signal_data_values, bins=100, color='blue', alpha=0.5, label='True Signal', density=True)\n",
    "\n",
    "# Histogram for Invariant Mass Spectrum of True Signal\n",
    "plt.hist(invariant_mass_spectrum_true_signal_values, bins=100, color='green', alpha=0.5, label='Invariant Mass Spectrum (True Signal)', density=True)\n",
    "\n",
    "# Histogram for Invariant Mass Spectrum of Predicted Signal\n",
    "plt.hist(invariant_mass_spectrum_predicted_signal_values, bins=50, color='red', alpha=0.5, label='Invariant Mass Spectrum (Predicted Signal)', density=True)\n",
    "\n",
    "plt.title('Signal Distributions')\n",
    "plt.xlabel('Invariant Mass')\n",
    "plt.ylabel('Events')\n",
    "plt.legend()\n",
    "plt.show()\n",
    "\n"
   ]
  },
  {
   "cell_type": "code",
   "execution_count": 106,
   "metadata": {},
   "outputs": [],
   "source": [
    "# Early stopping\n",
    "average_test_loss = np.mean(test_losses)\n",
    "\n",
    "if average_test_loss < best_test_loss:\n",
    "    best_test_loss = average_test_loss \n",
    "    best_epoch = epoch\n",
    "elif epoch - best_epoch >= patience:\n",
    "    print(f'Early stopping at epoch {epoch + 1}. Best test loss: {best_test_loss}')"
   ]
  },
  {
   "cell_type": "code",
   "execution_count": 107,
   "metadata": {},
   "outputs": [
    {
     "name": "stdout",
     "output_type": "stream",
     "text": [
      "Confusion Matrix:\n",
      "[[21 11]\n",
      " [11 21]]\n"
     ]
    }
   ],
   "source": [
    "#TP, FN, FP, TN; bu değerler makaledekine epey yakın çıkıyor \n",
    "\n",
    "# Converting arrays to binary labels (0 and 1)\n",
    "total_targets = (np.concatenate([total_signal_targets, total_background_targets])) \n",
    "total_predictions = (np.concatenate([total_signal_predictions, total_background_predictions]))\n",
    "\n",
    "# Confusion matrix\n",
    "conf_matrix = confusion_matrix(total_targets, total_predictions)\n",
    "\n",
    "# Print the confusion matrix\n",
    "print('Confusion Matrix:')\n",
    "print(conf_matrix)\n"
   ]
  },
  {
   "cell_type": "code",
   "execution_count": null,
   "metadata": {},
   "outputs": [],
   "source": []
  }
 ],
 "metadata": {
  "kernelspec": {
   "display_name": "aienv",
   "language": "python",
   "name": "python3"
  },
  "language_info": {
   "codemirror_mode": {
    "name": "ipython",
    "version": 3
   },
   "file_extension": ".py",
   "mimetype": "text/x-python",
   "name": "python",
   "nbconvert_exporter": "python",
   "pygments_lexer": "ipython3",
   "version": "3.11.7"
  }
 },
 "nbformat": 4,
 "nbformat_minor": 2
}
